{
    "cells": [
        {
            "cell_type": "markdown",
            "metadata": {},
            "source": "# Battle of the Neighbourhoods - final project"
        },
        {
            "cell_type": "markdown",
            "metadata": {},
            "source": "### A description of the problem and a discussion of the background. (15 marks)"
        },
        {
            "cell_type": "markdown",
            "metadata": {},
            "source": "#### The problem:\n\nWe are looking to open a new coffee shop in the city bowl of Cape Town (South Africa). We would like to determine the most ideal location to open their coffee shop. We have three key requirements that need to be met when find the best location:\n1. There must be high foot traffic in the vacinity of our shop to maximize number of potential buyers\n2. There must be few other coffee stores to minimize competition\n3. There must be surrounding stores/services to further maximize foot traffic\n\nThese points are ordered according to the priority of the requirement being met. This means that, for example, for the purpose of our shop, high foot traffic is the most import factor to considering when determining where to locate our store, then the number of competitors, followed by the surrounding stores. What this means is that we are willing to indure a certain level of competitors for the chance of having higher foot traffic, and therefore, more customers.\n\nIdeally, we want a location that has high foot traffic, low competition and surrounding businesses that will attrach more customers to our store.\n\n#### Background:\n\nThe Cape Town city bowl is one of the main tourist hotspots in the City of Cape Town Region for this reason there are many restaurants, fast food places, coffee shops and even informal markets that people are able to receive food and drinks. \n\nBased on the location requirements we have sent above we will use the following methods to determine the best location for our new shop.\n1. To find the most foot traffic we will take transportation infrastructure into account i.e. rail, bus, taxi, cab, etc. and determine what are the central points that people \"gather\" in.\n2. We will locate the corporate brands such as Settle Coffee, Mugg and Bean as low-cost competition stores as well as independatly owned coffee stores such as Xpresso, determine their locations and find a location that has the lowest competition.\n3. We will consider places in the CBD such as shopping malls, banks, plazas, etc for areas that may have the large amount of locals and museums, art gallaries and other types of tourist locations to determine which areas will have the most amount of tourists. \n\n#### Additional notes:\n* For the purpose of this investigation, we will be focusing on only stores that are considered exclusively coffee shops. While restaurants and fast food joints do provide coffee as one of the goods they sell, we will not be considering them for the investigation because their primary sale items are foods.\n* Nightlife locations such as bars will also not be taken into consideration as most of them are only open _after_ our stores operational hours.\n* One of the issues of the second point in the problem statement \"There must be few other coffee stores to minimize competition\" is that sometimes competitors actually bring people into the area and locating our store away from competitors might also move us away from potential high foot traffic areas.\n"
        },
        {
            "cell_type": "markdown",
            "metadata": {},
            "source": "### A description of the data and how it will be used to solve the problem. (15 marks)"
        },
        {
            "cell_type": "markdown",
            "metadata": {},
            "source": "For this investigation we will be looking at several different datasets. \n\n#### 1. Suburbs in the Cape Town City bowl - suburb data\nFirst, we will evaluate the suburbs in the City bowl area by pulling in the suburb list from Wikipedia (https://en.wikipedia.org/wiki/List_of_Cape_Town_suburbs) using the third table to map out the suburbs. This data in not complex and will simply consists of the 16 surburb names and their respective Street Code. \n\n#### 2. Suburbs in Cape Town City bowl - coordinate data\nNext, we will add more information to the previous data list using an excel file that contains the longitude and latitude of the 16 above-mentioned suburbs. Again this is also not a complex dataset, consisting of only the suburb name, latitude and longitude details. \n\nNormally, we would join the data mentioned in point 1 and the data in point 2 on Street Code but because majority of the suburbs have the same Street Code (because we are looking at such a centralized location) it is not a unique identifier. We will use suburb instead to allow for more accurate joining and, therefore, coordinate data. \n\n#### 3. Transportation routes\nNext, using the Transportation categories Parking [4c38df4de52ce0d596b336e1] and Travel & Transport [4d4b7105d754a06379d81259] in the Foursquare API, we will determine the transport routes avaliable to see which areas have a high foot traffic within the city bowl. The assumption is that the more transportation routes feed into a specific area the more likely it is that there will be a high density of people moving from drop-off location to desired location. \n\n#### 4. Local coffee shops\nAfter that, we will evalute coffee shops in the city bowl to determine the high density areas. Again, we will use the Foursquare API to pull in this information using the category Coffee Shop [4bf58dd8d48988d1e0931735]. This will allow us to assess locations with a high density of coffee stores and consider if it makes sense to be locate near the competition or far away. We will do this by evaluating what surrounds these stores and if area is to densily populated with coffee shops for our store to have a market edge.\n\n#### 5. Surrounding businesses \nLastly, we will consider the coffee stores mentioned in the above point 4 and determine if there are any commonalities to what is located in their surroundings, if there are areas we can find that have high foot traffic (determined in point 3) and if there are areas that have similar businesses to those found surrounding the other coffee stores central locations. We will use Arts & Entertainment [4d4b7104d754a06370d81259] (this is to identify tourist hotspots) and use Professional & Other Places [4d4b7105d754a06375d81259], Office [4bf58dd8d48988d124941735], School [4bf58dd8d48988d13b941735] and Shop & Service [4d4b7105d754a06378d81259] (to identify students and professionals hotspots).\n\n\nUsing the datasets in points 3 - 5 we should be able to identity 1 or more location that closely resembles our ideal store location that has high foot traffic, low competition and surrounding businesses that will attrach more customers to our store. As previously stated, we are willing to sacrifice low competition area for one that has higher foot traffic and surrounding businesses. \n\n#### Additional Note:\n\n* All data mentioned in points 3 - 5 will consist only of the name, category, location (either address details or co-ordinante data). "
        },
        {
            "cell_type": "code",
            "execution_count": null,
            "metadata": {},
            "outputs": [],
            "source": ""
        }
    ],
    "metadata": {
        "kernelspec": {
            "display_name": "Python 3.6",
            "language": "python",
            "name": "python3"
        },
        "language_info": {
            "codemirror_mode": {
                "name": "ipython",
                "version": 3
            },
            "file_extension": ".py",
            "mimetype": "text/x-python",
            "name": "python",
            "nbconvert_exporter": "python",
            "pygments_lexer": "ipython3",
            "version": "3.6.9"
        }
    },
    "nbformat": 4,
    "nbformat_minor": 1
}